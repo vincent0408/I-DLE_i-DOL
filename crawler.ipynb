{
 "cells": [
  {
   "cell_type": "code",
   "execution_count": 5,
   "metadata": {},
   "outputs": [],
   "source": [
    "import undetected_chromedriver as uc\n",
    "from selenium.webdriver.common.by import By\n",
    "from selenium.webdriver.support.wait import WebDriverWait\n",
    "from selenium.webdriver.support import expected_conditions as EC\n",
    "import pickle\n",
    "from concurrent.futures import ThreadPoolExecutor\n",
    "from IPython.display import clear_output\n",
    "import pathlib\n",
    "import time\n",
    "import keyboard"
   ]
  },
  {
   "cell_type": "code",
   "execution_count": 6,
   "metadata": {},
   "outputs": [],
   "source": [
    "def refresh_cookies(email, pw):\n",
    "    url = f'https://kktix.com'\n",
    "    options = uc.ChromeOptions()\n",
    "    options.add_argument(\"--headless\")\n",
    "    driver = uc.Chrome(options=options)\n",
    "    driver.get(url)\n",
    "    WebDriverWait(driver, 5).until(EC.presence_of_all_elements_located((By.CSS_SELECTOR, \"li[class='not-signed-in']\")))[1].click()\n",
    "    WebDriverWait(driver, 5).until(EC.presence_of_element_located((By.CSS_SELECTOR, \"input[id='user_login']\"))).send_keys(email)\n",
    "    WebDriverWait(driver, 5).until(EC.presence_of_element_located((By.CSS_SELECTOR, \"input[id='user_password']\"))).send_keys(pw)\n",
    "    WebDriverWait(driver, 5).until(EC.presence_of_element_located((By.CSS_SELECTOR, \"[class='btn btn normal btn-login']\"))).click()\n",
    "    time.sleep(2)\n",
    "    pickle.dump(driver.get_cookies(), open(\"cookies.pkl\", \"wb\"))\n",
    "    driver.quit()\n",
    "def remove_twd_comma(s):\n",
    "    return int(s.replace(\"TWD$\", \"\").replace(\",\", \"\"))"
   ]
  },
  {
   "cell_type": "code",
   "execution_count": 7,
   "metadata": {},
   "outputs": [],
   "source": [
    "price_range = [1200, 500]\n",
    "name_keyword = [\"B\", \"黃3I\"]\n",
    "ticket_quantity = 2\n",
    "cutoff_price = 8000\n",
    "cutoff_ticket_quantity = 1\n",
    "# with open(\"./cred.txt\", \"r\") as f:\n",
    "#     email, pw = f.read().split(\"\\n\")\n",
    "# refresh_cookies(email, pw)"
   ]
  },
  {
   "cell_type": "code",
   "execution_count": 8,
   "metadata": {},
   "outputs": [],
   "source": [
    "events = {\n",
    "    \"\": \"ruspiano2024\",\n",
    "    \"10/4\": \"a8249618-00a1c\",\n",
    "    \"10/5\": \"a8249618-01afw\",\n",
    "    \"10/6\": \"a8249618-02bew\",\n",
    "}\n",
    "event_id = events[\"\"]\n",
    "url = f'https://kktix.com/events/{event_id}/registrations/new'\n",
    "options = uc.ChromeOptions()\n",
    "# prefs = {\"profile.managed_default_content_settings.images\": 2}\n",
    "# options.add_experimental_option(\"prefs\", prefs)\n",
    "# options.add_argument('--blink-settings=imagesEnabled=false')\n",
    "# options.add_argument(f\"--load-extension={pathlib.Path().absolute()}/CapSolver/\")\n",
    "options.page_load_strategy = 'normal'\n",
    "options.add_argument(f\"--load-extension={pathlib.Path().absolute()}/ublock/\")\n",
    "driver = uc.Chrome(options=options)\n",
    "with ThreadPoolExecutor() as executor:\n",
    "    executor.submit(lambda: driver.set_window_position(2000, 0))\n",
    "    executor.submit(lambda: driver.maximize_window())\n",
    "    executor.submit(lambda: driver.get(url))\n",
    "cookies = pickle.load(open(\"cookies.pkl\", \"rb\"))\n",
    "for cookie in cookies:\n",
    "    driver.add_cookie(cookie)\n",
    "driver.refresh()"
   ]
  },
  {
   "cell_type": "code",
   "execution_count": 35,
   "metadata": {},
   "outputs": [
    {
     "name": "stdout",
     "output_type": "stream",
     "text": [
      "* Found $1,200 全 $1200 tickets available\n"
     ]
    }
   ],
   "source": [
    "found_type = False\n",
    "while(True):\n",
    "\n",
    "    clear_output(wait=True)\n",
    "    if(keyboard.is_pressed('q')): \n",
    "        break\n",
    "\n",
    "    if(found_type):\n",
    "        try:\n",
    "            driver.switch_to.alert.accept()\n",
    "            found_type = False\n",
    "        except:\n",
    "            continue\n",
    "\n",
    "    with ThreadPoolExecutor() as executor:\n",
    "        executor.submit(lambda: WebDriverWait(driver, 2).until(EC.element_to_be_clickable((By.CSS_SELECTOR, \"input[id='person_agree_terms']\"))).click())\n",
    "        ticket_type_collection = executor.submit(lambda: WebDriverWait(driver, 2).until(EC.presence_of_all_elements_located((By.CSS_SELECTOR, \"div[ng-controller='TicketCtrl']\")))).result()\n",
    "        manual_automatic_button = executor.submit(lambda: WebDriverWait(driver, 2).until(EC.presence_of_all_elements_located((By.CSS_SELECTOR, \"div[ng-show='anyPurchasable()'] > button\")))).result()\n",
    "\n",
    "    for price in price_range:\n",
    "        # print(f\"Currently finding ${price} tickets:\")\n",
    "        for ticket_type in ticket_type_collection:\n",
    "            type_price = remove_twd_comma(ticket_type.find_element(By.CSS_SELECTOR, \"[class='ng-binding ng-scope']\").text)\n",
    "            type_name = ticket_type.find_element(By.CSS_SELECTOR, \"span[class='ticket-name ng-binding']\").text.replace(\"\\n\", \" \")\n",
    "            if(type_price == price):\n",
    "                try:\n",
    "                    status = ticket_type.find_element(By.CSS_SELECTOR, \"[class='ticket-quantity ng-binding ng-scope']\").text\n",
    "                    # print(f\"* {type_name} is currently {status}\")\n",
    "                    continue\n",
    "                except:\n",
    "                    pass\n",
    "                try:\n",
    "                    tickets_left = ticket_type.find_element(By.CSS_SELECTOR, \"span[ng-if='showCapacityNotice']\").text\n",
    "                    if(int(tickets_left.rstrip(\" Left\")) < ticket_quantity):\n",
    "                        # print(tickets_left)\n",
    "                        continue\n",
    "                except:\n",
    "                    pass\n",
    "                # ticket_quantity = ticket_quantity if price < cutoff_price else cutoff_ticket_quantity\n",
    "                input_field = ticket_type.find_element(By.CSS_SELECTOR,  \"input\")\n",
    "                input_field.clear()\n",
    "                input_field.send_keys(ticket_quantity)\n",
    "                manual_automatic_button[-1].click()\n",
    "                found_type = True\n",
    "                print(f\"* Found {type_name} ${price} tickets available\")\n",
    "                break\n",
    "        if(found_type):\n",
    "            break\n",
    "        else:\n",
    "            pass\n",
    "            # print(f\"* Did not find ${price} tickets\")\n",
    "    if(not found_type):\n",
    "        # print(\"! Did not find any ticket type available, refreshing...\")\n",
    "        driver.refresh()"
   ]
  }
 ],
 "metadata": {
  "kernelspec": {
   "display_name": "Python 3",
   "language": "python",
   "name": "python3"
  },
  "language_info": {
   "codemirror_mode": {
    "name": "ipython",
    "version": 3
   },
   "file_extension": ".py",
   "mimetype": "text/x-python",
   "name": "python",
   "nbconvert_exporter": "python",
   "pygments_lexer": "ipython3",
   "version": "3.11.9"
  }
 },
 "nbformat": 4,
 "nbformat_minor": 2
}
