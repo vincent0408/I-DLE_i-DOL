{
 "cells": [
  {
   "cell_type": "code",
   "execution_count": 1,
   "metadata": {},
   "outputs": [],
   "source": [
    "import undetected_chromedriver as uc\n",
    "from selenium.webdriver.common.by import By\n",
    "from selenium.webdriver.support.wait import WebDriverWait\n",
    "from selenium.webdriver.support import expected_conditions as EC\n",
    "import pickle\n",
    "from concurrent.futures import ThreadPoolExecutor\n",
    "from IPython.display import clear_output\n",
    "import pathlib\n",
    "import time\n",
    "import keyboard"
   ]
  },
  {
   "cell_type": "code",
   "execution_count": 2,
   "metadata": {},
   "outputs": [],
   "source": [
    "def refresh_cookies(email, pw):\n",
    "    url = f'https://kktix.com'\n",
    "    options = uc.ChromeOptions()\n",
    "    options.add_argument(\"--headless=new\")\n",
    "    driver = uc.Chrome(options=options)\n",
    "    driver.get(url)\n",
    "    WebDriverWait(driver, 5).until(EC.presence_of_all_elements_located((By.CSS_SELECTOR, \"li[class='not-signed-in']\")))[1].click()\n",
    "    WebDriverWait(driver, 5).until(EC.presence_of_element_located((By.CSS_SELECTOR, \"input[id='user_login']\"))).send_keys(email)\n",
    "    WebDriverWait(driver, 5).until(EC.presence_of_element_located((By.CSS_SELECTOR, \"input[id='user_password']\"))).send_keys(pw)\n",
    "    WebDriverWait(driver, 5).until(EC.presence_of_element_located((By.CSS_SELECTOR, \"[class='btn btn normal btn-login']\"))).click()\n",
    "    time.sleep(2)\n",
    "    pickle.dump(driver.get_cookies(), open(\"cookies.pkl\", \"wb\"))\n",
    "    driver.quit()\n",
    "def remove_twd_comma(s):\n",
    "    return int(s.replace(\"TWD$\", \"\").replace(\",\", \"\"))"
   ]
  },
  {
   "cell_type": "code",
   "execution_count": 3,
   "metadata": {},
   "outputs": [],
   "source": [
    "choose_by_ticket_price = True\n",
    "choose_by_ticket_name = not choose_by_ticket_price\n",
    "price_range = [6380, 3880, 6980, 6080, 3380, 800]\n",
    "name_keyword = [\"黃2D\", \"黃3I\"]\n",
    "ticket_quantity = 2\n",
    "cutoff_price = 5000\n",
    "cutoff_ticket_quantity = 1\n",
    "with open(\"./cred.txt\", \"r\") as f:\n",
    "    email, pw = f.read().split(\"\\n\")\n",
    "# refresh_cookies(email, pw)"
   ]
  },
  {
   "cell_type": "code",
   "execution_count": 9,
   "metadata": {},
   "outputs": [],
   "source": [
    "events = {\n",
    "    \"10/4\": \"a8249618-00a1c\",\n",
    "    \"10/5\": \"a8249618-01afw\",\n",
    "    \"10/6\": \"a8249618-02bew\",\n",
    "}\n",
    "event_id = events[\"10/4\"]\n",
    "url = f'https://kktix.com/events/{event_id}/registrations/new'\n",
    "options = uc.ChromeOptions()\n",
    "# options.add_argument(f\"--load-extension={pathlib.Path().absolute()}/CapSolver/\")\n",
    "driver = uc.Chrome(options=options)\n",
    "driver.set_window_position(2000, 0)\n",
    "driver.maximize_window()\n",
    "driver.get(url)\n",
    "cookies = pickle.load(open(\"cookies.pkl\", \"rb\"))\n",
    "for cookie in cookies:\n",
    "    driver.add_cookie(cookie)\n",
    "driver.refresh()"
   ]
  },
  {
   "cell_type": "code",
   "execution_count": 23,
   "metadata": {},
   "outputs": [
    {
     "name": "stdout",
     "output_type": "stream",
     "text": [
      "Currently finding $6380 tickets: Temporarily Unavailable\n",
      "Currently finding $3880 tickets: Found tickets available\n"
     ]
    }
   ],
   "source": [
    "found_type = False\n",
    "while(True):\n",
    "    clear_output(wait=True)\n",
    "    if(keyboard.is_pressed('y')): break\n",
    "    if(found_type):\n",
    "        try:\n",
    "            driver.switch_to.alert.accept()\n",
    "            found_type = False\n",
    "        except: continue\n",
    "    try:\n",
    "        ticket_type_collection = WebDriverWait(driver, 1).until(EC.presence_of_all_elements_located((By.CSS_SELECTOR, \"div[class='ticket-unit ng-scope']\")))\n",
    "        if(choose_by_ticket_price):\n",
    "            for price in price_range:\n",
    "                print(f\"Currently finding ${price} tickets: \", end='')\n",
    "                for ticket_type in ticket_type_collection:\n",
    "                    type_price = remove_twd_comma(ticket_type.find_element(By.CSS_SELECTOR, \"[class='ng-binding ng-scope']\").text)\n",
    "                    if(type_price == price):\n",
    "                        try:\n",
    "                            print(ticket_type.find_element(By.CSS_SELECTOR, \"[class='ticket-quantity ng-binding ng-scope']\").text)\n",
    "                            continue\n",
    "                        except:\n",
    "                            plus_button = ticket_type.find_element(By.CSS_SELECTOR, \"button[class='btn-default plus']\")\n",
    "                            real_quantity = ticket_quantity if price < cutoff_price else cutoff_ticket_quantity\n",
    "                            for i in range(real_quantity):\n",
    "                                plus_button.click()\n",
    "\n",
    "                            # effective_quantity = int(ticket_type.find_element(By.CSS_SELECTOR, \"input[type='text']\").get_attribute('value'))\n",
    "                            # if(effective_quantity < real_quantity):\n",
    "                            #     print(\"Not enough tickets, refreshing...\")\n",
    "                            #     driver.refresh()\n",
    "                            #     continue\n",
    "                            \n",
    "                            WebDriverWait(driver, 1).until(EC.element_to_be_clickable((By.CSS_SELECTOR, \"input[id='person_agree_terms']\"))).click()\n",
    "                            WebDriverWait(driver, 1).until(EC.presence_of_all_elements_located((By.CSS_SELECTOR, \"button[class*='btn btn-primary']\")))[-1].click()\n",
    "                            found_type = True\n",
    "                            print(f\"Found tickets available\")\n",
    "                            break\n",
    "                if(found_type): break\n",
    "            if(not found_type):\n",
    "                print(\"Did not find any ticket type available, refreshing...\")\n",
    "                driver.refresh()\n",
    "        elif(choose_by_ticket_name):\n",
    "            for kw in name_keyword:\n",
    "                print(f\"Currently finding {kw} tickets: \", end='')\n",
    "                for ticket_type in ticket_type_collection:\n",
    "                    type_name = ticket_type.find_element(By.CLASS_NAME, \"ticket-name\").text\n",
    "                    if(kw in type_name):\n",
    "                        try:\n",
    "                            print(ticket_type.find_element(By.CSS_SELECTOR, \"[class='ticket-quantity ng-binding ng-scope']\").text)\n",
    "                            continue\n",
    "                        except:\n",
    "                            plus_button = ticket_type.find_element(By.CSS_SELECTOR, \"button[class='btn-default plus']\")\n",
    "                            for i in range(ticket_quantity):\n",
    "                                plus_button.click()\n",
    "                            WebDriverWait(driver, 2).until(EC.element_to_be_clickable((By.CSS_SELECTOR, \"input[id='person_agree_terms']\"))).click()\n",
    "                            WebDriverWait(driver, 2).until(EC.presence_of_all_elements_located((By.CSS_SELECTOR, \"button[class*='btn btn-primary']\")))[-1].click()\n",
    "                            found_type = True\n",
    "                            print(f\"Found tickets available\")\n",
    "                            break\n",
    "                if(found_type): break\n",
    "            if(not found_type):\n",
    "                print(\"Did not find any ticket type available, refreshing...\")\n",
    "                driver.refresh()\n",
    "    except Exception as e:\n",
    "        print(\"Error occured: \", e)\n",
    "        print(\"Tickets unavailable, refreshing...\")\n",
    "        driver.refresh()\n"
   ]
  }
 ],
 "metadata": {
  "kernelspec": {
   "display_name": "Python 3",
   "language": "python",
   "name": "python3"
  },
  "language_info": {
   "codemirror_mode": {
    "name": "ipython",
    "version": 3
   },
   "file_extension": ".py",
   "mimetype": "text/x-python",
   "name": "python",
   "nbconvert_exporter": "python",
   "pygments_lexer": "ipython3",
   "version": "3.11.9"
  }
 },
 "nbformat": 4,
 "nbformat_minor": 2
}
